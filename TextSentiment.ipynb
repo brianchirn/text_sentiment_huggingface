{
  "nbformat": 4,
  "nbformat_minor": 0,
  "metadata": {
    "colab": {
      "name": "TextSentiment.ipynb",
      "private_outputs": true,
      "provenance": [],
      "collapsed_sections": [],
      "authorship_tag": "ABX9TyNQskJK2SdendHa67dp9Eox",
      "include_colab_link": true
    },
    "kernelspec": {
      "name": "python3",
      "display_name": "Python 3"
    },
    "language_info": {
      "name": "python"
    }
  },
  "cells": [
    {
      "cell_type": "markdown",
      "metadata": {
        "id": "view-in-github",
        "colab_type": "text"
      },
      "source": [
        "<a href=\"https://colab.research.google.com/github/brianchirn/text_sentiment_huggingface/blob/main/TextSentiment.ipynb\" target=\"_parent\"><img src=\"https://colab.research.google.com/assets/colab-badge.svg\" alt=\"Open In Colab\"/></a>"
      ]
    },
    {
      "cell_type": "markdown",
      "metadata": {
        "id": "nHa0eWK2buIU"
      },
      "source": [
        "Brian Chirn 5/25/2021\n",
        "\n",
        "Uses pretrained NLP models to  detect text sentiment from patients responding to DPPP automate messages. \n",
        "\n",
        "Uses the twitter-roberta-base-sentiment model from Hugging Face. \n",
        "  roBerta-base model trained on 58M tweets and finetuned for sentiment analysis.  \n",
        "https://huggingface.co/cardiffnlp/twitter-roberta-base-sentiment\n",
        "\n",
        "\n",
        "How to use:\n",
        "Click the play button on the side of each code cell to to run that portion of code. \n",
        "If you would like to see how the model classifies an individual text message, alter the 'text' string in the second to last code cell. \n"
      ]
    },
    {
      "cell_type": "markdown",
      "metadata": {
        "id": "HXVBBxlEEpUp"
      },
      "source": [
        ""
      ]
    },
    {
      "cell_type": "code",
      "metadata": {
        "id": "7zhL1ktgfQPJ"
      },
      "source": [
        "!pip install transformers"
      ],
      "execution_count": null,
      "outputs": []
    },
    {
      "cell_type": "code",
      "metadata": {
        "id": "HtdgHKxAf1nt"
      },
      "source": [
        "from transformers import AutoModelForSequenceClassification\n",
        "from transformers import TFAutoModelForSequenceClassification\n",
        "from transformers import pipeline\n",
        "from transformers import AutoTokenizer\n",
        "import numpy as np\n",
        "from scipy.special import softmax\n",
        "import csv\n",
        "import urllib.request\n",
        "\n"
      ],
      "execution_count": null,
      "outputs": []
    },
    {
      "cell_type": "code",
      "metadata": {
        "id": "6kEXrssMgBFU"
      },
      "source": [
        "# Select the appropiate task:\n",
        "# emoji, emotion, hate, irony, offensive, sentiment\n",
        "\n",
        "task='sentiment'\n",
        "MODEL = f\"cardiffnlp/twitter-roberta-base-{task}\"\n",
        "\n",
        "tokenizer = AutoTokenizer.from_pretrained('cardiffnlp/twitter-roberta-base')"
      ],
      "execution_count": null,
      "outputs": []
    },
    {
      "cell_type": "code",
      "metadata": {
        "id": "eB6bkcB3cZU8"
      },
      "source": [
        "# download label mapping\n",
        "labels=[]\n",
        "mapping_link = f\"https://raw.githubusercontent.com/cardiffnlp/tweeteval/main/datasets/{task}/mapping.txt\"\n",
        "with urllib.request.urlopen(mapping_link) as f:\n",
        "    html = f.read().decode('utf-8').split(\"\\n\")\n",
        "    csvreader = csv.reader(html, delimiter='\\t')\n",
        "labels = [row[1] for row in csvreader if len(row) > 1]\n",
        "\n",
        "# PT (pytorch)\n",
        "model = AutoModelForSequenceClassification.from_pretrained(MODEL)\n",
        "model.save_pretrained(MODEL)\n",
        "\n",
        "\n"
      ],
      "execution_count": null,
      "outputs": []
    },
    {
      "cell_type": "markdown",
      "metadata": {
        "id": "2R5dlfm5DbVi"
      },
      "source": [
        "Model predicts positive, neutral, or negative sentiment based on 'text' field. "
      ]
    },
    {
      "cell_type": "code",
      "metadata": {
        "id": "45qbNyDdkSI_"
      },
      "source": [
        "# Model output\n",
        "\n",
        "text = 'thanks for the reminder doctor'\n",
        "encoded_input = tokenizer(text, return_tensors='pt')\n",
        "output = model(**encoded_input)\n",
        "scores = output[0][0].detach().numpy()\n",
        "scores = softmax(scores)\n",
        "\n",
        "ranking = np.argsort(scores)\n",
        "ranking = ranking[::-1]\n",
        "for i in range(scores.shape[0]):\n",
        "    l = labels[ranking[i]]\n",
        "    s = scores[ranking[i]]\n",
        "    print(f\"{i+1}) {l} {np.round(float(s), 4)}\")"
      ],
      "execution_count": null,
      "outputs": []
    },
    {
      "cell_type": "code",
      "metadata": {
        "id": "coE6OWBArnn3"
      },
      "source": [
        "# Function for multiple texts within a list\n",
        "\n",
        "texts= ['hello doctor, i wanted to thank you for the message','thank you for the text message, but i do not quite understand how to use it', 'please stop sending me text messages']\n",
        "\n",
        "df = []\n",
        "def sentiment (texts):\n",
        "  df = []\n",
        "  for text in texts:\n",
        "    encoded_input = tokenizer(text, return_tensors='pt')\n",
        "    output = model(**encoded_input)\n",
        "    scores = output[0][0].detach().numpy()\n",
        "    scores = softmax(scores) #score are ordered in negative, neutral, positive\n",
        "    df.append(scores)\n",
        "  return df\n",
        "\n",
        "texts_sentiments = sentiment(texts)\n",
        "review = []\n",
        "\n",
        "for i in range(len(texts)):\n",
        "  if texts_sentiments[i][2]>0.8:\n",
        "    review.append('positive')\n",
        "  else:\n",
        "    review.append('review')\n",
        "\n",
        "print(texts)\n",
        "print(review)\n"
      ],
      "execution_count": null,
      "outputs": []
    }
  ]
}